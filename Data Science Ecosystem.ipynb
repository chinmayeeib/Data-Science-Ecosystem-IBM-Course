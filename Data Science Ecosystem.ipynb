{
  "cells": [
    {
      "cell_type": "markdown",
      "source": [
        "Data Science Tools and Ecosystem"
      ],
      "metadata": {
        "id": "JywcvOifWHQ4"
      }
    },
    {
      "cell_type": "markdown",
      "source": [
        "In this notebook, Data Science Tools and Ecosystem are summarized."
      ],
      "metadata": {
        "id": "Y4F270uCWYBY"
      }
    },
    {
      "cell_type": "markdown",
      "source": [
        "Some of the popular languages that Data Scientists use are:\n",
        "\n",
        "1. Python\n",
        "2. R\n",
        "3. SQL\n",
        "4. Julia"
      ],
      "metadata": {
        "id": "GzmRuUi9WcVL"
      }
    },
    {
      "cell_type": "markdown",
      "source": [
        "Some of the commonly used libraries used by Data Scientists include:\n",
        "\n",
        "1. Pandas\n",
        "2. NumPy\n",
        "3. Scikit-learn\n",
        "4. TensorFlow"
      ],
      "metadata": {
        "id": "t4tNKb6QWh7e"
      }
    },
    {
      "cell_type": "markdown",
      "source": [
        "Data Science Tools\n",
        "\n",
        "\n",
        "---\n",
        "\n",
        "\n",
        "Jupyter Notebook\n",
        "\n",
        "\n",
        "---\n",
        "\n",
        "\n",
        "RStudio\n",
        "\n",
        "\n",
        "---\n",
        "\n",
        "\n",
        "Apache Zeppelin\n",
        "\n",
        "---\n",
        "\n"
      ],
      "metadata": {
        "id": "yKMCEUY9WxO9"
      }
    },
    {
      "cell_type": "markdown",
      "source": [
        "### Below are a few examples of evaluating arithmetic expressions in Python.\n"
      ],
      "metadata": {
        "id": "sJ1Wmu0jW6aL"
      }
    },
    {
      "cell_type": "code",
      "source": [
        "# This a simple arithmetic expression to multiply then add integers\n",
        "(3*4)+5"
      ],
      "metadata": {
        "colab": {
          "base_uri": "https://localhost:8080/"
        },
        "id": "0EavKwyBW-IA",
        "outputId": "9cec28ea-8a50-4178-d5b0-9a9f4355813a"
      },
      "execution_count": 2,
      "outputs": [
        {
          "output_type": "execute_result",
          "data": {
            "text/plain": [
              "17"
            ]
          },
          "metadata": {},
          "execution_count": 2
        }
      ]
    },
    {
      "cell_type": "code",
      "source": [
        "# This will convert 200 minutes to hours by dividing by 60\n",
        "200 / 60"
      ],
      "metadata": {
        "colab": {
          "base_uri": "https://localhost:8080/"
        },
        "id": "yUAO6fJuWbcU",
        "outputId": "75b23ec9-0c95-4337-9905-0ffac005a562"
      },
      "execution_count": 3,
      "outputs": [
        {
          "output_type": "execute_result",
          "data": {
            "text/plain": [
              "3.3333333333333335"
            ]
          },
          "metadata": {},
          "execution_count": 3
        }
      ]
    },
    {
      "cell_type": "markdown",
      "source": [
        "Objectives:\n",
        "\n",
        "List popular languages for Data Science\n",
        "\n",
        "List commonly used libraries for Data Science\n",
        "\n",
        "Demonstrate arithmetic expressions in Python\n",
        "\n",
        "Introduce open-source tools used by data scientists\n"
      ],
      "metadata": {
        "id": "9Cc6FX-OXKr1"
      }
    },
    {
      "cell_type": "markdown",
      "source": [
        "## Author  \n",
        "Chinmayee Bhattacharjee\n"
      ],
      "metadata": {
        "id": "21VDmKc5XRc0"
      }
    },
    {
      "cell_type": "code",
      "source": [],
      "metadata": {
        "id": "kZGuZBRnXFkq"
      },
      "execution_count": null,
      "outputs": []
    }
  ],
  "metadata": {
    "colab": {
      "name": "Welcome to Colab",
      "toc_visible": true,
      "provenance": []
    },
    "kernelspec": {
      "display_name": "Python 3",
      "name": "python3"
    }
  },
  "nbformat": 4,
  "nbformat_minor": 0
}